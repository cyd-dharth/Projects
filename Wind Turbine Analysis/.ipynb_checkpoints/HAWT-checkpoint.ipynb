{
 "cells": [
  {
   "cell_type": "code",
   "execution_count": 1,
   "id": "24b9083a",
   "metadata": {},
   "outputs": [],
   "source": [
    "import pandas as pd\n",
    "import numpy as np\n",
    "import matplotlib.pyplot as plt \n"
   ]
  },
  {
   "cell_type": "code",
   "execution_count": 2,
   "id": "54d30e5a",
   "metadata": {},
   "outputs": [],
   "source": [
    "a = 0\n",
    "A = 0  #a'\n",
    "v = 8  #Velocity\n",
    "w = 2.61  #Rotational Velocity\n",
    "roh = 1.225  #Density\n",
    "B = 3  #No. of Blade\n",
    "R = 21  #Radius of Rotor \n",
    "r_list = np.arange(4.5, 21, 1)  #list of radius from 4.5 to 21 with step of 1\n",
    "c_list = np.linspace(1.63, 0.265, num=len(r_list))  #list of chord values from 1.63 to 0.265 \n",
    "get_c = dict(zip(r_list, c_list))  # r value vs c value mapping \n",
    "Q_list = np.linspace(0.34,0.00035,num=len(r_list))  #list of thetha(Q) from 0.34 to 0.00035\n",
    "get_Q = dict(zip(r_list,Q_list))  # r vs theta mapping"
   ]
  },
  {
   "cell_type": "code",
   "execution_count": null,
   "id": "e4858ede",
   "metadata": {},
   "outputs": [],
   "source": []
  },
  {
   "cell_type": "code",
   "execution_count": 3,
   "id": "4a52de38",
   "metadata": {},
   "outputs": [],
   "source": [
    "def get_Cd_Cl_list(r):\n",
    "    if r<2:\n",
    "        df_cd = pd.read_csv(\"sg6040 alpha  vs cd.csv\")\n",
    "        df_cl = pd.read_csv(\"sg6040 alpha vs cl.csv\")\n",
    "        alpha_list = list(df_cd[\"Alpha\"]) \n",
    "        Cd_list = list(df_cd[\"Cd\"]) \n",
    "        Cl_list = list(df_cl[\"Cl\"])\n",
    "        Cd_list = list(map(float, Cd_list))\n",
    "        Cl_list = list(map(float, Cl_list))\n",
    "    elif r<4 and r>=2:\n",
    "        df_cd = pd.read_csv(\"sg6043 alpha vs cd.csv\")\n",
    "        df_cl = pd.read_csv(\"sg6043 alpha vs cl.csv\")\n",
    "        alpha_list = list(df_cd[\"Alpha\"]) \n",
    "        Cd_list = list(df_cd[\"Cd\"]) \n",
    "        Cl_list = list(df_cl[\"Cl\"])\n",
    "        Cd_list = list(map(float, Cd_list))\n",
    "        Cl_list = list(map(float, Cl_list))\n",
    "    else:\n",
    "        df_cd = pd.read_csv(\"sg6050 alpha vs cd.csv\")\n",
    "        df_cl = pd.read_csv(\"sg6050 alpha vs cl.csv\")\n",
    "        alpha_list = list(df_cd[\"Alpha\"]) \n",
    "        Cd_list = list(df_cd[\"Cd\"]) \n",
    "        Cl_list = list(df_cl[\"Cl\"])\n",
    "        Cd_list = list(map(float, Cd_list))\n",
    "        Cl_list = list(map(float, Cl_list))\n",
    "    return Cl_list,Cd_list,alpha_list"
   ]
  },
  {
   "cell_type": "code",
   "execution_count": 4,
   "id": "353a1eba",
   "metadata": {},
   "outputs": [],
   "source": [
    "def get_phi(a,A,v,w,r):\n",
    "    val = (1-a)*v/((1+A)*w*r)\n",
    "    phi = np.arctan(val)\n",
    "    return phi"
   ]
  },
  {
   "cell_type": "code",
   "execution_count": 5,
   "id": "735b1f34",
   "metadata": {},
   "outputs": [],
   "source": [
    "def get_CnCt(Cl,Cd,phi):\n",
    "    Cn = Cl*np.cos(phi)+Cd*np.sin(phi)\n",
    "    Ct = Cl*np.sin(phi)-Cd*np.sin(phi)\n",
    "    return Cn,Ct"
   ]
  },
  {
   "cell_type": "code",
   "execution_count": 6,
   "id": "be71ab6a",
   "metadata": {},
   "outputs": [],
   "source": [
    "def get_sigma(r):  #Solidity Ratio\n",
    "    c = get_c[r]\n",
    "    sigma = B*c/(2*np.pi*r)\n",
    "    return sigma"
   ]
  },
  {
   "cell_type": "code",
   "execution_count": 7,
   "id": "a4ecd4e3",
   "metadata": {},
   "outputs": [],
   "source": [
    "def get_aN_AN(sigma,Cn,Ct,phi):\n",
    "    aN=1/((4*(np.sin(phi)**2)/(sigma*Cn))+1)\n",
    "    AN = 1/((4*np.sin(phi)*np.cos(phi)/(sigma*Ct))-1)\n",
    "    return aN,AN"
   ]
  },
  {
   "cell_type": "code",
   "execution_count": 8,
   "id": "9abfb0f6",
   "metadata": {},
   "outputs": [
    {
     "name": "stdout",
     "output_type": "stream",
     "text": [
      "0.28165979772101596\n",
      "0.281626555496836\n",
      "0.281624871553995\n",
      "0.2815224886884906\n",
      "0.2815226636061876\n",
      "0.2814537409382879\n",
      "0.2814534157385773\n",
      "0.2814075667657957\n",
      "0.28140710752212544\n",
      "0.2813776048421902\n",
      "0.28137721687735856\n",
      "0.28135960452178954\n",
      "0.2813593713454317\n",
      "0.28135062175273934\n",
      "0.28134862078883893\n",
      "0.28135187566293884\n",
      "0.2813592966047099\n",
      "0.28137007153619714\n",
      "0.28138358406810016\n",
      "0.2813993585661037\n",
      "0.28141702253744133\n",
      "0.2814362803530259\n",
      "0.2814568945471195\n",
      "0.2814786722828656\n"
     ]
    }
   ],
   "source": [
    "r_final,alpha_final,Cn_final,Ct_final,Q_final=[],[],[],[],[]\n",
    "for r in r_list:\n",
    "    Cl_list,Cd_list,alpha_list = get_Cd_Cl_list(r)\n",
    "    while(True):  #Breaks when error1 and error2 are less than 0.001\n",
    "        \n",
    "        phi=get_phi(a,A,v,w,r)  #Get phi value\n",
    "        \n",
    "        Q = get_Q[r]\n",
    "    \n",
    "        alpha = phi-Q  #Calculating alpha value\n",
    "        \n",
    "        alpha = alpha*np.pi/180  #converting alpha to degrees\n",
    "    \n",
    "        #Interpolating Cl and Cd for above alpha based on existing list values\n",
    "        Cl = np.interp(alpha,alpha_list,Cl_list)  #Required x-value, x-list, y-list\n",
    "        \n",
    "        Cd = np.interp(alpha,alpha_list,Cd_list)\n",
    "        print(Cl)\n",
    "    \n",
    "        Cn,Ct = get_CnCt(Cl,Cd,phi)  #Get Cn and Ct\n",
    "    \n",
    "        sigma = get_sigma(r)   #Get sigma\n",
    "    \n",
    "        aN,AN = get_aN_AN(sigma,Cn,Ct,phi)  #Get aN and AN values\n",
    "    \n",
    "        #error1 and error2\n",
    "        error1 = aN-a \n",
    "        error2 = AN-A\n",
    "    \n",
    "        #Check is errors are less than 0.001\n",
    "        if error1<0.001 and error2<0.001:\n",
    "            r_final.append(r)\n",
    "            alpha_final.append(alpha)\n",
    "            Cn_final.append(Cn)\n",
    "            Ct_final.append(Ct)\n",
    "            Q_final.append(Q)\n",
    "            break\n",
    "        else:\n",
    "            #Print(\"For r: \",r, \" error1: \",error1,\" and error2: \",error2)\n",
    "            a = aN\n",
    "            A = AN"
   ]
  },
  {
   "cell_type": "code",
   "execution_count": 9,
   "id": "1193a713",
   "metadata": {},
   "outputs": [],
   "source": [
    "final_df = pd.DataFrame({\"r\":r_final,\"Q\":Q_final,\"alpha\":alpha_final,\"Cn\":Cn_final,\"Ct\":Ct_final})"
   ]
  },
  {
   "cell_type": "code",
   "execution_count": 10,
   "id": "705b697d",
   "metadata": {},
   "outputs": [],
   "source": [
    "r_final = np.array(r_final)\n",
    "Cn_final = np.array(Cn_final)\n",
    "Ct_final = np.array(Ct_final)"
   ]
  },
  {
   "cell_type": "code",
   "execution_count": 11,
   "id": "031a9e95",
   "metadata": {},
   "outputs": [],
   "source": [
    "Pt = 0.5*roh*v*v*c_list*Ct_final  #Tangential Force"
   ]
  },
  {
   "cell_type": "code",
   "execution_count": 12,
   "id": "b4433d36",
   "metadata": {},
   "outputs": [
    {
     "data": {
      "image/png": "[encoded data removed]",
      "text/plain": [
       "<Figure size 432x288 with 1 Axes>"
      ]
     },
     "metadata": {
      "needs_background": "light"
     },
     "output_type": "display_data"
    }
   ],
   "source": [
    "plt.plot(r_final,Pt)\n",
    "plt.title(\"r vs Pt\")\n",
    "plt.xlabel(\"r\")\n",
    "plt.ylabel(\"Pt\")\n",
    "plt.show()"
   ]
  },
  {
   "cell_type": "code",
   "execution_count": 13,
   "id": "178f01a9",
   "metadata": {},
   "outputs": [],
   "source": [
    "Pn = 0.5*roh*v*v*c_list*Cn_final  #Normal Force"
   ]
  },
  {
   "cell_type": "code",
   "execution_count": 14,
   "id": "a36bfa04",
   "metadata": {},
   "outputs": [
    {
     "data": {
      "image/png": "[encoded data removed]",
      "text/plain": [
       "<Figure size 432x288 with 1 Axes>"
      ]
     },
     "metadata": {
      "needs_background": "light"
     },
     "output_type": "display_data"
    }
   ],
   "source": [
    "plt.plot(r_final,Pn)\n",
    "plt.title(\"r vs Pn\")\n",
    "plt.xlabel(\"r\")\n",
    "plt.ylabel(\"Pn\")\n",
    "plt.show()"
   ]
  },
  {
   "cell_type": "code",
   "execution_count": 15,
   "id": "f5203ff9",
   "metadata": {},
   "outputs": [],
   "source": [
    "T = B*Pn*r_final  #Trust Force"
   ]
  },
  {
   "cell_type": "code",
   "execution_count": 16,
   "id": "4963fc1f",
   "metadata": {},
   "outputs": [
    {
     "data": {
      "image/png": "[encoded data removed]",
      "text/plain": [
       "<Figure size 432x288 with 1 Axes>"
      ]
     },
     "metadata": {
      "needs_background": "light"
     },
     "output_type": "display_data"
    }
   ],
   "source": [
    "plt.plot(r_final,T)\n",
    "plt.title(\"r vs T\")\n",
    "plt.xlabel(\"r\")\n",
    "plt.ylabel(\"T\")\n",
    "plt.show()"
   ]
  },
  {
   "cell_type": "code",
   "execution_count": 17,
   "id": "a93683e3",
   "metadata": {},
   "outputs": [],
   "source": [
    "M = R*B*Pt*r_final  #Torque"
   ]
  },
  {
   "cell_type": "code",
   "execution_count": 18,
   "id": "e49a9762",
   "metadata": {},
   "outputs": [
    {
     "data": {
      "image/png": "[encoded data removed]",
      "text/plain": [
       "<Figure size 432x288 with 1 Axes>"
      ]
     },
     "metadata": {
      "needs_background": "light"
     },
     "output_type": "display_data"
    }
   ],
   "source": [
    "plt.plot(r_final,M)\n",
    "plt.title(\"r vs M\")\n",
    "plt.xlabel(\"r\")\n",
    "plt.ylabel(\"M\")\n",
    "plt.show()"
   ]
  }
 ],
 "metadata": {
  "kernelspec": {
   "display_name": "Python 3 (ipykernel)",
   "language": "python",
   "name": "python3"
  },
  "language_info": {
   "codemirror_mode": {
    "name": "ipython",
    "version": 3
   },
   "file_extension": ".py",
   "mimetype": "text/x-python",
   "name": "python",
   "nbconvert_exporter": "python",
   "pygments_lexer": "ipython3",
   "version": "3.10.6"
  }
 },
 "nbformat": 4,
 "nbformat_minor": 5
}
