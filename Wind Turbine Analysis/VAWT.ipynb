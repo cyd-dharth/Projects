{
 "cells": [
  {
   "cell_type": "code",
   "execution_count": 4,
   "id": "789bb395",
   "metadata": {},
   "outputs": [],
   "source": [
    "import pandas as pd\n",
    "import numpy as np\n",
    "import matplotlib.pyplot as plt\n",
    "import math as mt"
   ]
  },
  {
   "cell_type": "code",
   "execution_count": 5,
   "id": "576e7b76",
   "metadata": {},
   "outputs": [],
   "source": [
    "a = 0             #Upwind induction factor\n",
    "a_ = 0            #Downwind induction factor\n",
    "rho = 1.225       #Density\n",
    "#v = 10.3           #free stream velocity\n",
    "c = 0.61          #chord\n",
    "b = 3             #No. of blade \n",
    "r = 8.84          #Radius\n",
    "h = 12.9           #Height\n",
    "ar = 2*r*h        #Area\n",
    "#tsr = 2.03\n",
    "#N = 252        #Rpm\n",
    "#w = (2*np.pi*N)/60       #rad/s\n",
    "#tsr = (r*w)/v            #Tip speed ratio\n",
    "tsr = 5\n",
    "v = (18.8*r)/tsr\n",
    "sol = (b*c)/(2*np.pi*r)  #Solidity ratio\n",
    "Pw = rho*r*h*(v**3)"
   ]
  },
  {
   "cell_type": "code",
   "execution_count": 6,
   "id": "b4bf442a",
   "metadata": {},
   "outputs": [],
   "source": [
    "#vr = v*(1-a)                #Upwind velocity\n",
    "#ve = v*(1-(2*a))            #Equilibrium velocity\n",
    "#vr1 = (1-(2*a))*(1-a1)*v    #Downwind velocity    "
   ]
  },
  {
   "cell_type": "code",
   "execution_count": 7,
   "id": "d0f9fde9",
   "metadata": {},
   "outputs": [],
   "source": [
    "cd_cl = pd.read_csv(\"Cl, Cd vs Alpha NACA0015 (1).csv\")\n",
    "alpha_list = list(cd_cl[\"alpha\"])\n",
    "cd_list = list(cd_cl[\"cd\"])\n",
    "cl_list = list(cd_cl[\"cl\"])\n",
    "cd_list = list(map(float,cd_list))\n",
    "cl_list = list(map(float,cl_list))"
   ]
  },
  {
   "cell_type": "code",
   "execution_count": 8,
   "id": "bc66f764",
   "metadata": {},
   "outputs": [],
   "source": [
    "def get_alpha(q):\n",
    "    value1 = ((1-a)*np.sin(q))/(((1-a)*np.cos(q)) + tsr)   #Alpha\n",
    "    al = mt.atan(value1)\n",
    "    return al\n",
    "\n",
    "def get_ct_cn(cl,cd,al):\n",
    "    ct = (cl*np.sin(al)) - (cd*np.cos(al))\n",
    "    cn = (cl*np.cos(al)) + (cd*np.sin(al))\n",
    "    return ct,cn\n",
    "\n",
    "def get_vr_v(a,q,tsr):\n",
    "    value2 = (((1-a)*np.sin(q))**2) + ((((1-a)*np.cos(q)) + tsr)**2)\n",
    "    vr_v = mt.sqrt(value2)\n",
    "    return vr_v\n",
    "    \n",
    "def get_a(cn,ct,q,vr_v):\n",
    "    A = (b*c*(vr_v**2)*(-cn+(ct*(np.cos(q)/np.sin(q)))))/(r*2*np.pi*4*(1-a))\n",
    "    return abs(A)"
   ]
  },
  {
   "cell_type": "code",
   "execution_count": 9,
   "id": "9b6dcb16",
   "metadata": {},
   "outputs": [],
   "source": [
    "def get_alpha_(q_):\n",
    "    value1_ = ((1-a_)*np.sin(q_))/(((1-a_)*np.cos(q_)) + (tsr/((1-(2*a)))))   \n",
    "    al_ = mt.atan(value1_)  \n",
    "    return al_\n",
    "\n",
    "def get_ct_cn_(cl_,cd_,al_):\n",
    "    ct_ = (cl_*np.sin(al_)) - (cd_*np.cos(al_))\n",
    "    cn_ = (cl_*np.cos(al_)) + (cd_*np.sin(al_))\n",
    "    return ct_,cn_\n",
    "\n",
    "def get_vr_v_(a,q_,tsr,a_):\n",
    "    value2_ = (((1-a_)*np.sin(q_))**2) + ((((1-a_)*np.cos(q_)) + (tsr/(1-(2*a))))**2)\n",
    "    vr_v_ = mt.sqrt(value2_)\n",
    "    return vr_v_\n",
    "\n",
    "def get_a_(cn_,ct_,q_,vr_v_):\n",
    "    A_ = (b*c*(vr_v_**2)*(-cn_+(ct_*(np.cos(q_)/np.sin(q_)))))/(r*2*np.pi*4*(1-a_))\n",
    "    return abs(A_)"
   ]
  },
  {
   "cell_type": "code",
   "execution_count": null,
   "id": "087034a8",
   "metadata": {},
   "outputs": [],
   "source": []
  },
  {
   "cell_type": "code",
   "execution_count": 10,
   "id": "28015844",
   "metadata": {},
   "outputs": [],
   "source": [
    "alpha_final, cn_final, ct_final, a_final, cl_final, vr_v_final = [], [], [], [], [], []\n",
    "angle = np.linspace(1,179,18)\n",
    "m = len(angle)\n",
    "\n",
    "for q1 in angle: \n",
    "    while (True):\n",
    "\n",
    "        q = (q1*np.pi)/180\n",
    "        al = abs(get_alpha(q))   \n",
    "        al_d = (al*180)/np.pi\n",
    "        al_d = round(al_d,4)\n",
    "       \n",
    "        cl = np.interp(al_d,alpha_list,cl_list)\n",
    "        cd = np.interp(al_d,alpha_list,cd_list)\n",
    "\n",
    "        ct,cn = get_ct_cn(cl,cd,al)\n",
    "    \n",
    "        vr_v = get_vr_v(a,q,tsr)\n",
    "\n",
    "        A = get_a(cn,ct,q,vr_v)\n",
    "    \n",
    "        error1 = A - a\n",
    "\n",
    "        if error1<0.1:\n",
    "            \n",
    "            alpha_final.append(al_d)\n",
    "            cn_final.append(cn)\n",
    "            ct_final.append(ct)\n",
    "            a_final.append(A)\n",
    "            cl_final.append(cl)\n",
    "            vr_v_final.append(vr_v)\n",
    "            \n",
    "            alpha_final_, cn_final_, ct_final_,a_final_,cl_final_,vr_v_final_ = [], [], [], [], [], []\n",
    "            angle_ = np.linspace(181,359,18)\n",
    "\n",
    "            for q1_ in angle_: \n",
    "                while (True):\n",
    "\n",
    "                    q_ = (q1_*np.pi)/180\n",
    "                    al_ = abs(get_alpha_(q_))\n",
    "                    al_d_ = (al_*180)/np.pi\n",
    "                    al_d_ = round(al_d_,4)\n",
    "                    \n",
    "                    cl_ = np.interp(al_d_,alpha_list,cl_list)\n",
    "                    cd_ = np.interp(al_d_,alpha_list,cd_list)\n",
    "\n",
    "                    ct_,cn_ = get_ct_cn_(cl_,cd_,al_)\n",
    "        \n",
    "                    vr_v_ = get_vr_v_(a,q_,tsr,a_)\n",
    "\n",
    "                    A_ = get_a_(cn_,ct_,q_,vr_v_)\n",
    "    \n",
    "                    error1_ = A_ - a_\n",
    "\n",
    "                    if error1_ <0.1:\n",
    "                        alpha_final_.append(al_d_)\n",
    "                        cn_final_.append(cn_)\n",
    "                        ct_final_.append(ct_)\n",
    "                        a_final_.append(A_)\n",
    "                        cl_final_.append(cl_)\n",
    "                        vr_v_final_.append(vr_v_)\n",
    "                        break\n",
    "                    else:\n",
    "                        a_ = A_\n",
    "            \n",
    "            break\n",
    "        else:\n",
    "            a = A           "
   ]
  },
  {
   "cell_type": "code",
   "execution_count": 11,
   "id": "6093e695",
   "metadata": {},
   "outputs": [
    {
     "data": {
      "text/plain": [
       "(array([0.16986598, 0.06433244, 0.10542449, 0.15889937, 0.21148531,\n",
       "        0.23418296, 0.24461459, 0.25013795, 0.25023099, 0.24572138,\n",
       "        0.23694913, 0.22421826, 0.20742904, 0.18657789, 0.15926594,\n",
       "        0.09970259, 0.04196334, 0.07927065]),\n",
       " array([0.145 , 1.6563, 3.1338, 4.5459, 5.8603, 7.043 , 8.0589, 8.8709,\n",
       "        9.4414, 9.7325, 9.7089, 9.3406, 8.6077, 7.5063, 6.055 , 4.2998,\n",
       "        2.3159, 0.2042]),\n",
       " array([-0.00866041, -0.00419649,  0.00839478,  0.03153482,  0.06333808,\n",
       "         0.08982707,  0.11183904,  0.13078602,  0.14420046,  0.15117346,\n",
       "         0.15060266,  0.14182242,  0.12449816,  0.09960512,  0.06837622,\n",
       "         0.02657796,  0.00028079, -0.00863354]),\n",
       " array([0.01516533, 0.17392509, 0.34397242, 0.54717441, 0.7499494 ,\n",
       "        0.84999572, 0.90969993, 0.95588726, 0.98547077, 1.00010347,\n",
       "        0.99891884, 0.98039326, 0.94095473, 0.87732677, 0.77555251,\n",
       "        0.50883193, 0.24672579, 0.02135694]),\n",
       " array([194.36971538, 193.89152692, 192.62019361, 190.58277823,\n",
       "        187.82357334, 184.4044714 , 180.40544105, 175.92504868,\n",
       "        171.08090677, 166.00983712, 160.86739858, 155.82624785,\n",
       "        151.07261038, 146.80002717, 143.19967641, 140.44715624,\n",
       "        138.68676386, 138.01578324]))"
      ]
     },
     "execution_count": 11,
     "metadata": {},
     "output_type": "execute_result"
    }
   ],
   "source": [
    "alpha_final = np.array(alpha_final)\n",
    "cn_final = np.array(cn_final)\n",
    "ct_final = np.array(ct_final)\n",
    "a_final = np.array(a_final)\n",
    "vr_v_final = np.array(vr_v_final)\n",
    "\n",
    "alpha_final_ = np.array(alpha_final_)\n",
    "cn_final_ = np.array(cn_final_)\n",
    "ct_final_ = np.array(ct_final_)\n",
    "a_final_ = np.array(a_final_)\n",
    "vr_v_final_ = np.array(vr_v_final_)\n",
    "\n",
    "\n",
    "a_avg = np.average(a_final)\n",
    "a_avg_ = np.average(a_final_)\n",
    "a_final,a_final_,alpha_final,alpha_final_\n",
    "#a_final,a_final_\n",
    "#cn_final,cn_final_\n",
    "a_final,alpha_final,ct_final,cn_final,(vr_v_final*v)\n",
    "#a_final_,alpha_final_,ct_final_,cn_final_,(vr_v_final_*v)\n",
    "#alpha_final,cl_final\n",
    "#alpha_final_,cl_final_\n",
    "#a_final,alpha_final_\n",
    "#a_avg, a_avg_"
   ]
  },
  {
   "cell_type": "code",
   "execution_count": 12,
   "id": "86fd20c8",
   "metadata": {},
   "outputs": [],
   "source": [
    "N1 = (0.5*b*rho*h*c*(vr_v_final**2)*(v**2)*cn_final)/m \n",
    "N1_ = (0.5*b*rho*h*c*(vr_v_final_**2)*(v**2)*cn_final_)/m\n",
    "T1 = (0.5*b*rho*h*c*(vr_v_final**2)*(v**2)*ct_final*r)/m \n",
    "T1_ = (0.5*b*rho*h*c*(vr_v_final**2)*(v**2)*ct_final_*r)/m   "
   ]
  },
  {
   "cell_type": "code",
   "execution_count": 13,
   "id": "d0d98e3a",
   "metadata": {},
   "outputs": [
    {
     "data": {
      "text/plain": [
       "(296373.3440954438, 530702.4956122098)"
      ]
     },
     "execution_count": 13,
     "metadata": {},
     "output_type": "execute_result"
    }
   ],
   "source": [
    "N = N1 + N1_\n",
    "T = T1 + T1_\n",
    "TN = sum(N)   #Total Normal or Thrust Force\n",
    "TT = sum(T)   #Total Torque\n",
    "TT,TN"
   ]
  },
  {
   "cell_type": "code",
   "execution_count": 14,
   "id": "47a13bdd",
   "metadata": {},
   "outputs": [],
   "source": [
    "streamtube = np.linspace(1,m,m)"
   ]
  },
  {
   "cell_type": "code",
   "execution_count": 15,
   "id": "05d6dc3b",
   "metadata": {},
   "outputs": [
    {
     "data": {
      "text/plain": [
       "[<matplotlib.lines.Line2D at 0x1a9990eed40>,\n",
       " <matplotlib.lines.Line2D at 0x1a9990eed10>]"
      ]
     },
     "execution_count": 15,
     "metadata": {},
     "output_type": "execute_result"
    },
    {
     "data": {
      "image/png": "[encoded data removed]",
      "text/plain": [
       "<Figure size 432x288 with 1 Axes>"
      ]
     },
     "metadata": {
      "needs_background": "light"
     },
     "output_type": "display_data"
    }
   ],
   "source": [
    "plt.plot(streamtube,T1,T1_)"
   ]
  },
  {
   "cell_type": "code",
   "execution_count": 16,
   "id": "6cb21a92",
   "metadata": {},
   "outputs": [
    {
     "data": {
      "text/plain": [
       "[<matplotlib.lines.Line2D at 0x1a99b1f4400>,\n",
       " <matplotlib.lines.Line2D at 0x1a99b1f4460>]"
      ]
     },
     "execution_count": 16,
     "metadata": {},
     "output_type": "execute_result"
    },
    {
     "data": {
      "image/png": "[encoded data removed]",
      "text/plain": [
       "<Figure size 432x288 with 1 Axes>"
      ]
     },
     "metadata": {
      "needs_background": "light"
     },
     "output_type": "display_data"
    }
   ],
   "source": [
    "plt.plot(streamtube,N1,N1_)"
   ]
  },
  {
   "cell_type": "code",
   "execution_count": null,
   "id": "44fd5e07",
   "metadata": {},
   "outputs": [],
   "source": []
  },
  {
   "cell_type": "code",
   "execution_count": null,
   "id": "26a4f540",
   "metadata": {},
   "outputs": [],
   "source": []
  }
 ],
 "metadata": {
  "kernelspec": {
   "display_name": "Python 3 (ipykernel)",
   "language": "python",
   "name": "python3"
  },
  "language_info": {
   "codemirror_mode": {
    "name": "ipython",
    "version": 3
   },
   "file_extension": ".py",
   "mimetype": "text/x-python",
   "name": "python",
   "nbconvert_exporter": "python",
   "pygments_lexer": "ipython3",
   "version": "3.10.6"
  }
 },
 "nbformat": 4,
 "nbformat_minor": 5
}
